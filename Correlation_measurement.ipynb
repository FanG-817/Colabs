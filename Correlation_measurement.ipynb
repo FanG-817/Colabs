{
  "cells": [
    {
      "cell_type": "markdown",
      "metadata": {
        "id": "view-in-github",
        "colab_type": "text"
      },
      "source": [
        "<a href=\"https://colab.research.google.com/github/FanG-817/Colabs/blob/main/Correlation_measurement.ipynb\" target=\"_parent\"><img src=\"https://colab.research.google.com/assets/colab-badge.svg\" alt=\"Open In Colab\"/></a>"
      ]
    },
    {
      "cell_type": "code",
      "execution_count": null,
      "id": "cef91c25",
      "metadata": {
        "id": "cef91c25"
      },
      "outputs": [],
      "source": [
        "%%capture\n",
        "%pip install -U 'rockfish[labs]' -f 'https://docs142.rockfish.ai/packages/index.html'"
      ]
    },
    {
      "cell_type": "code",
      "execution_count": null,
      "id": "9994c3f4",
      "metadata": {
        "id": "9994c3f4"
      },
      "outputs": [],
      "source": [
        "import pandas as pd\n",
        "import numpy as np\n",
        "\n",
        "import rockfish as rf\n",
        "import rockfish.labs"
      ]
    },
    {
      "cell_type": "code",
      "execution_count": null,
      "id": "0514c8d4",
      "metadata": {
        "id": "0514c8d4"
      },
      "outputs": [],
      "source": [
        "# Create a random sample datasets with 2 numerical columns and 2 categorical columns\n",
        "np.random.seed(42)\n",
        "\n",
        "\n",
        "def generate_random_data(num_rows):\n",
        "    numerical_col1 = np.random.rand(num_rows) * 100\n",
        "    numerical_col2 = np.random.randn(num_rows) * 10\n",
        "    categorical_col1 = np.random.choice([\"A\", \"B\", \"C\"], num_rows)\n",
        "    categorical_col2 = np.random.choice([\"X\", \"Y\", \"Z\"], num_rows)\n",
        "\n",
        "    data = {\n",
        "        \"numerical_1\": numerical_col1,\n",
        "        \"numerical_2\": numerical_col2,\n",
        "        \"categorical_1\": categorical_col1,\n",
        "        \"categorical_2\": categorical_col2,\n",
        "    }\n",
        "\n",
        "    return pd.DataFrame(data)\n",
        "\n",
        "\n",
        "dataset = rf.Dataset.from_pandas(\"sample\", generate_random_data(100))\n",
        "dataset.to_pandas()"
      ]
    },
    {
      "cell_type": "markdown",
      "id": "9acffd65",
      "metadata": {
        "id": "9acffd65"
      },
      "source": [
        "# Pearson correlation"
      ]
    },
    {
      "cell_type": "code",
      "execution_count": null,
      "id": "62400ea2",
      "metadata": {
        "id": "62400ea2"
      },
      "outputs": [],
      "source": [
        "rf.labs.metrics.pearsonr(dataset, \"numerical_1\", \"numerical_2\").to_pandas()"
      ]
    },
    {
      "cell_type": "markdown",
      "id": "6e487996",
      "metadata": {
        "id": "6e487996"
      },
      "source": [
        "# Cramer's V"
      ]
    },
    {
      "cell_type": "code",
      "execution_count": null,
      "id": "4382f760",
      "metadata": {
        "id": "4382f760"
      },
      "outputs": [],
      "source": [
        "# with bias correction\n",
        "rf.labs.metrics.cramer_v(dataset, \"categorical_1\", \"categorical_2\", correction=True)"
      ]
    },
    {
      "cell_type": "code",
      "execution_count": null,
      "id": "4fc01f4c",
      "metadata": {
        "id": "4fc01f4c"
      },
      "outputs": [],
      "source": [
        "# without bias correction\n",
        "rf.labs.metrics.cramer_v(dataset, \"categorical_1\", \"categorical_2\", correction=False)"
      ]
    }
  ],
  "metadata": {
    "jupytext": {
      "main_language": "python"
    },
    "kernelspec": {
      "display_name": "Python 3",
      "name": "python3"
    },
    "colab": {
      "provenance": [],
      "include_colab_link": true
    }
  },
  "nbformat": 4,
  "nbformat_minor": 5
}